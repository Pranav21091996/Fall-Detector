{
 "cells": [
  {
   "cell_type": "code",
   "execution_count": 13,
   "metadata": {
    "collapsed": true
   },
   "outputs": [],
   "source": [
    "from sklearn import tree\n",
    "from sklearn import preprocessing\n",
    "from sklearn.metrics import accuracy_score\n",
    "from sklearn import svm\n",
    "from sklearn.naive_bayes import GaussianNB\n",
    "from sklearn import neighbors"
   ]
  },
  {
   "cell_type": "code",
   "execution_count": 14,
   "metadata": {
    "collapsed": true
   },
   "outputs": [],
   "source": [
    "clf=tree.DecisionTreeClassifier()"
   ]
  },
  {
   "cell_type": "code",
   "execution_count": 15,
   "metadata": {
    "collapsed": true
   },
   "outputs": [],
   "source": [
    "clf1=svm.SVC()"
   ]
  },
  {
   "cell_type": "code",
   "execution_count": 16,
   "metadata": {
    "collapsed": true
   },
   "outputs": [],
   "source": [
    "clf2=GaussianNB()"
   ]
  },
  {
   "cell_type": "code",
   "execution_count": 17,
   "metadata": {
    "collapsed": true
   },
   "outputs": [],
   "source": [
    "clf3=neighbors.KNeighborsClassifier()"
   ]
  },
  {
   "cell_type": "code",
   "execution_count": 10,
   "metadata": {
    "collapsed": false
   },
   "outputs": [],
   "source": [
    "X=[[26.08,-30.02,25.04],[102.9,62.47,97.28],[-7.69,-23.34,35.17],[-98.01,-44.79,21.85],[21.01,-47.3,40.88],\n",
    "   [-52.69,-31.86,17.72],[68.67,49.32,98.54],[-28.61,-31.12,19.13],[-54.59,-49.81,28.03],[36.8,-50.26,36.8],\n",
    "   [115,24.5,107.3],[-66.25,-35.87,23.52],[139.1,38,113.1],[84.1,41.09,99.39],[18.71,-39.68,35.33]]\n",
    "#take max value of roll coordinates\n"
   ]
  },
  {
   "cell_type": "code",
   "execution_count": 4,
   "metadata": {
    "collapsed": true
   },
   "outputs": [],
   "source": [
    "Y=['BackFall','SideWays','BackFall','FaceDown','BackFall',\n",
    "   'FaceDown','SideWays','FaceDown','FaceDown','BackFall',\n",
    "   'SideWays','FaceDown','SideWays','SideWays','BackFall']"
   ]
  },
  {
   "cell_type": "code",
   "execution_count": 18,
   "metadata": {
    "collapsed": true
   },
   "outputs": [],
   "source": [
    "clf=clf.fit(X,Y)"
   ]
  },
  {
   "cell_type": "code",
   "execution_count": 20,
   "metadata": {
    "collapsed": true
   },
   "outputs": [],
   "source": [
    "clf1=clf1.fit(X,Y)"
   ]
  },
  {
   "cell_type": "code",
   "execution_count": 22,
   "metadata": {
    "collapsed": true
   },
   "outputs": [],
   "source": [
    "clf2=clf2.fit(X,Y)"
   ]
  },
  {
   "cell_type": "code",
   "execution_count": 23,
   "metadata": {
    "collapsed": true
   },
   "outputs": [],
   "source": [
    "clf3=clf3.fit(X,Y)"
   ]
  },
  {
   "cell_type": "code",
   "execution_count": 24,
   "metadata": {
    "collapsed": true
   },
   "outputs": [],
   "source": [
    "X_test=[[20,-45,32],[33,-45,33],[120,25,110],[-70,-35,19],[95,56,92],[75,35,95],[-75,-39,27],[-60,-37,26],[13,-25,30],[14,-40,30]]"
   ]
  },
  {
   "cell_type": "code",
   "execution_count": 40,
   "metadata": {
    "collapsed": true
   },
   "outputs": [],
   "source": [
    "Y_test=['BackFall','BackFall','SideWays','FaceDown','SideWays','SideWays','FaceDown','FaceDown','BackFall','BackFall']"
   ]
  },
  {
   "cell_type": "code",
   "execution_count": 26,
   "metadata": {
    "collapsed": true
   },
   "outputs": [],
   "source": [
    "Y_prediction=clf.predict(X_test)"
   ]
  },
  {
   "cell_type": "code",
   "execution_count": 27,
   "metadata": {
    "collapsed": true
   },
   "outputs": [],
   "source": [
    "Y_prediction1=clf1.predict(X_test)"
   ]
  },
  {
   "cell_type": "code",
   "execution_count": 28,
   "metadata": {
    "collapsed": true
   },
   "outputs": [],
   "source": [
    "Y_prediction2=clf2.predict(X_test)"
   ]
  },
  {
   "cell_type": "code",
   "execution_count": 29,
   "metadata": {
    "collapsed": true
   },
   "outputs": [],
   "source": [
    "Y_prediction3=clf3.predict(X_test)"
   ]
  },
  {
   "cell_type": "code",
   "execution_count": 30,
   "metadata": {
    "collapsed": false
   },
   "outputs": [
    {
     "name": "stdout",
     "output_type": "stream",
     "text": [
      "Prediction for Decision Tree ['BackFall' 'BackFall' 'SideWays' 'FaceDown' 'SideWays' 'SideWays'\n",
      " 'FaceDown' 'FaceDown' 'BackFall' 'BackFall']\n"
     ]
    }
   ],
   "source": [
    "print(\"Prediction for Decision Tree\",Y_prediction)"
   ]
  },
  {
   "cell_type": "code",
   "execution_count": 31,
   "metadata": {
    "collapsed": false
   },
   "outputs": [
    {
     "name": "stdout",
     "output_type": "stream",
     "text": [
      "Prediction for Decision Tree ['BackFall' 'BackFall' 'SideWays' 'FaceDown' 'SideWays' 'SideWays'\n",
      " 'FaceDown' 'FaceDown' 'FaceDown' 'BackFall']\n"
     ]
    }
   ],
   "source": [
    "print(\"Prediction for svm\",Y_prediction1)"
   ]
  },
  {
   "cell_type": "code",
   "execution_count": 32,
   "metadata": {
    "collapsed": false
   },
   "outputs": [
    {
     "name": "stdout",
     "output_type": "stream",
     "text": [
      "Prediction for Decision Tree ['BackFall' 'BackFall' 'SideWays' 'FaceDown' 'SideWays' 'SideWays'\n",
      " 'FaceDown' 'FaceDown' 'BackFall' 'BackFall']\n"
     ]
    }
   ],
   "source": [
    "print(\"Prediction for Naive Bayes\",Y_prediction2)"
   ]
  },
  {
   "cell_type": "code",
   "execution_count": 33,
   "metadata": {
    "collapsed": false
   },
   "outputs": [
    {
     "name": "stdout",
     "output_type": "stream",
     "text": [
      "Prediction for Decision Tree ['BackFall' 'BackFall' 'SideWays' 'FaceDown' 'SideWays' 'SideWays'\n",
      " 'FaceDown' 'FaceDown' 'BackFall' 'BackFall']\n"
     ]
    }
   ],
   "source": [
    "print(\"Prediction for K Neighbours\",Y_prediction3)"
   ]
  },
  {
   "cell_type": "code",
   "execution_count": 41,
   "metadata": {
    "collapsed": false
   },
   "outputs": [
    {
     "name": "stdout",
     "output_type": "stream",
     "text": [
      "Accuracy for Decision Tree  :  1.0\n"
     ]
    }
   ],
   "source": [
    "print(\"Accuracy for Decision Tree  : \",accuracy_score(Y_test,Y_prediction))"
   ]
  },
  {
   "cell_type": "code",
   "execution_count": 42,
   "metadata": {
    "collapsed": false
   },
   "outputs": [
    {
     "name": "stdout",
     "output_type": "stream",
     "text": [
      "Accuracy for SVM  :  0.9\n"
     ]
    }
   ],
   "source": [
    "print(\"Accuracy for SVM  : \",accuracy_score(Y_test,Y_prediction1))"
   ]
  },
  {
   "cell_type": "code",
   "execution_count": 43,
   "metadata": {
    "collapsed": false
   },
   "outputs": [
    {
     "name": "stdout",
     "output_type": "stream",
     "text": [
      "Accuracy for Gaussian naive  :  1.0\n"
     ]
    }
   ],
   "source": [
    "print(\"Accuracy for Gaussian naive  : \",accuracy_score(Y_test,Y_prediction2))"
   ]
  },
  {
   "cell_type": "code",
   "execution_count": 44,
   "metadata": {
    "collapsed": false
   },
   "outputs": [
    {
     "name": "stdout",
     "output_type": "stream",
     "text": [
      "Accuracy for K neighbours  :  1.0\n"
     ]
    }
   ],
   "source": [
    "print(\"Accuracy for K neighbours  : \",accuracy_score(Y_test,Y_prediction3))"
   ]
  },
  {
   "cell_type": "code",
   "execution_count": null,
   "metadata": {
    "collapsed": true
   },
   "outputs": [],
   "source": []
  }
 ],
 "metadata": {
  "kernelspec": {
   "display_name": "Python 3",
   "language": "python",
   "name": "python3"
  },
  "language_info": {
   "codemirror_mode": {
    "name": "ipython",
    "version": 3
   },
   "file_extension": ".py",
   "mimetype": "text/x-python",
   "name": "python",
   "nbconvert_exporter": "python",
   "pygments_lexer": "ipython3",
   "version": "3.6.0"
  }
 },
 "nbformat": 4,
 "nbformat_minor": 2
}
